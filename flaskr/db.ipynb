{
 "cells": [
  {
   "cell_type": "code",
   "execution_count": 2,
   "metadata": {},
   "outputs": [],
   "source": [
    "from sqlalchemy.orm import sessionmaker\n",
    "from sqlalchemy.ext.declarative import declarative_base\n",
    "from sqlalchemy import create_engine\n",
    "from sqlalchemy import create_engine, ForeignKey, String\n",
    "from sqlalchemy.orm import Session, DeclarativeBase, Mapped, mapped_column, relationship\n",
    "\n",
    "import click\n",
    "from flask import current_app, g\n",
    "\n",
    "from typing import List, Optional\n",
    "\n",
    "\n",
    "class Base(DeclarativeBase):\n",
    "    pass\n",
    "\n",
    "\n",
    "class User(Base):\n",
    "    __tablename__ = \"user_account\"\n",
    "\n",
    "    id: Mapped[int] = mapped_column(primary_key=True)\n",
    "    name: Mapped[str] = mapped_column(String(30))\n",
    "    fullname: Mapped[Optional[str]]\n",
    "\n",
    "    def __repr__(self) -> str:\n",
    "        return f\"User(id={self.id!r}, name={self.name!r}, fullname={self.fullname!r})\"\n",
    "\n",
    "\n",
    "engine = create_engine(\"sqlite://\", echo=True)"
   ]
  },
  {
   "cell_type": "code",
   "execution_count": 3,
   "metadata": {},
   "outputs": [
    {
     "name": "stdout",
     "output_type": "stream",
     "text": [
      "2024-09-05 14:32:16,316 INFO sqlalchemy.engine.Engine BEGIN (implicit)\n",
      "2024-09-05 14:32:16,320 INFO sqlalchemy.engine.Engine PRAGMA main.table_info(\"user_account\")\n",
      "2024-09-05 14:32:16,324 INFO sqlalchemy.engine.Engine [raw sql] ()\n",
      "2024-09-05 14:32:16,330 INFO sqlalchemy.engine.Engine PRAGMA temp.table_info(\"user_account\")\n",
      "2024-09-05 14:32:16,333 INFO sqlalchemy.engine.Engine [raw sql] ()\n",
      "2024-09-05 14:32:16,340 INFO sqlalchemy.engine.Engine \n",
      "CREATE TABLE user_account (\n",
      "\tid INTEGER NOT NULL, \n",
      "\tname VARCHAR(30) NOT NULL, \n",
      "\tfullname VARCHAR, \n",
      "\tPRIMARY KEY (id)\n",
      ")\n",
      "\n",
      "\n",
      "2024-09-05 14:32:16,343 INFO sqlalchemy.engine.Engine [no key 0.00254s] ()\n",
      "2024-09-05 14:32:16,350 INFO sqlalchemy.engine.Engine COMMIT\n"
     ]
    }
   ],
   "source": [
    "Base.metadata.create_all(engine)"
   ]
  },
  {
   "cell_type": "code",
   "execution_count": 4,
   "metadata": {},
   "outputs": [],
   "source": [
    "@click.command('init-db')\n",
    "def init_db_command():\n",
    "    # \"\"\"Clear the existing data and create new tables.\"\"\"\n",
    "    # init_db()\n",
    "    Base.metadata.create_all(engine)\n",
    "    click.echo('Initialized the database.')\n",
    "\n",
    "\n",
    "def init_app(app):\n",
    "    # app.teardown_appcontext(close_db)\n",
    "    app.cli.add_command(init_db_command)\n"
   ]
  },
  {
   "cell_type": "code",
   "execution_count": 11,
   "metadata": {},
   "outputs": [],
   "source": [
    "from sqlalchemy import select\n",
    "session = Session(engine)\n",
    "\n",
    "stmt = select(User).where(User.name.in_([\"Anton\"]))"
   ]
  },
  {
   "cell_type": "code",
   "execution_count": 12,
   "metadata": {},
   "outputs": [
    {
     "name": "stdout",
     "output_type": "stream",
     "text": [
      "SELECT user_account.id, user_account.name, user_account.fullname \n",
      "FROM user_account \n",
      "WHERE user_account.name\n",
      "2024-09-06 07:43:54,192 INFO sqlalchemy.engine.Engine BEGIN (implicit)\n",
      "2024-09-06 07:43:54,198 INFO sqlalchemy.engine.Engine SELECT user_account.id, user_account.name, user_account.fullname \n",
      "FROM user_account \n",
      "WHERE user_account.name\n",
      "2024-09-06 07:43:54,201 INFO sqlalchemy.engine.Engine [cached since 365.7s ago] ()\n"
     ]
    }
   ],
   "source": [
    "print(stmt)\n",
    "\n",
    "for user in session.scalars(stmt):\n",
    "    print(user.name)"
   ]
  },
  {
   "cell_type": "code",
   "execution_count": 9,
   "metadata": {},
   "outputs": [
    {
     "name": "stdout",
     "output_type": "stream",
     "text": [
      "2024-09-06 07:43:42,087 INFO sqlalchemy.engine.Engine BEGIN (implicit)\n",
      "2024-09-06 07:43:42,099 INFO sqlalchemy.engine.Engine INSERT INTO user_account (name, fullname) VALUES (?, ?)\n",
      "2024-09-06 07:43:42,101 INFO sqlalchemy.engine.Engine [generated in 0.00206s] ('Anton', None)\n",
      "2024-09-06 07:43:42,109 INFO sqlalchemy.engine.Engine COMMIT\n"
     ]
    }
   ],
   "source": [
    "with Session(engine) as session:\n",
    "    person = User(name=\"Anton\")\n",
    "    session.add(person)\n",
    "    session.commit()"
   ]
  }
 ],
 "metadata": {
  "kernelspec": {
   "display_name": ".venv",
   "language": "python",
   "name": "python3"
  },
  "language_info": {
   "codemirror_mode": {
    "name": "ipython",
    "version": 3
   },
   "file_extension": ".py",
   "mimetype": "text/x-python",
   "name": "python",
   "nbconvert_exporter": "python",
   "pygments_lexer": "ipython3",
   "version": "3.12.5"
  }
 },
 "nbformat": 4,
 "nbformat_minor": 2
}
